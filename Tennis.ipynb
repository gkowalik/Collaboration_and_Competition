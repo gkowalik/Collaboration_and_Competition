{
 "cells": [
  {
   "cell_type": "markdown",
   "metadata": {},
   "source": [
    "# Collaboration and Competition\n",
    "\n",
    "---\n",
    "\n",
    "You are welcome to use this coding environment to train your agent for the project.  Follow the instructions below to get started!\n",
    "\n",
    "### 1. Start the Environment\n",
    "\n",
    "Run the next code cell to install a few packages.  This line will take a few minutes to run!"
   ]
  },
  {
   "cell_type": "code",
   "execution_count": 1,
   "metadata": {},
   "outputs": [
    {
     "name": "stdout",
     "output_type": "stream",
     "text": [
      "\u001b[31mtensorflow 1.7.1 has requirement numpy>=1.13.3, but you'll have numpy 1.12.1 which is incompatible.\u001b[0m\r\n",
      "\u001b[31mipython 6.5.0 has requirement prompt-toolkit<2.0.0,>=1.0.15, but you'll have prompt-toolkit 3.0.3 which is incompatible.\u001b[0m\r\n"
     ]
    }
   ],
   "source": [
    "!pip -q install ./python"
   ]
  },
  {
   "cell_type": "markdown",
   "metadata": {},
   "source": [
    "The environment is already saved in the Workspace and can be accessed at the file path provided below. "
   ]
  },
  {
   "cell_type": "code",
   "execution_count": 2,
   "metadata": {},
   "outputs": [
    {
     "name": "stderr",
     "output_type": "stream",
     "text": [
      "INFO:unityagents:\n",
      "'Academy' started successfully!\n",
      "Unity Academy name: Academy\n",
      "        Number of Brains: 1\n",
      "        Number of External Brains : 1\n",
      "        Lesson number : 0\n",
      "        Reset Parameters :\n",
      "\t\t\n",
      "Unity brain name: TennisBrain\n",
      "        Number of Visual Observations (per agent): 0\n",
      "        Vector Observation space type: continuous\n",
      "        Vector Observation space size (per agent): 8\n",
      "        Number of stacked Vector Observation: 3\n",
      "        Vector Action space type: continuous\n",
      "        Vector Action space size (per agent): 2\n",
      "        Vector Action descriptions: , \n"
     ]
    }
   ],
   "source": [
    "from unityagents import UnityEnvironment\n",
    "import numpy as np\n",
    "\n",
    "env = UnityEnvironment(file_name=\"/data/Tennis_Linux_NoVis/Tennis\")"
   ]
  },
  {
   "cell_type": "markdown",
   "metadata": {},
   "source": [
    "Environments contain **_brains_** which are responsible for deciding the actions of their associated agents. Here we check for the first brain available, and set it as the default brain we will be controlling from Python."
   ]
  },
  {
   "cell_type": "code",
   "execution_count": 3,
   "metadata": {},
   "outputs": [],
   "source": [
    "# get the default brain\n",
    "brain_name = env.brain_names[0]\n",
    "brain = env.brains[brain_name]"
   ]
  },
  {
   "cell_type": "markdown",
   "metadata": {},
   "source": [
    "### 2. Examine the State and Action Spaces\n",
    "\n",
    "Run the code cell below to print some information about the environment."
   ]
  },
  {
   "cell_type": "code",
   "execution_count": 4,
   "metadata": {},
   "outputs": [
    {
     "name": "stdout",
     "output_type": "stream",
     "text": [
      "Number of agents: 2\n",
      "Size of each action: 2\n",
      "There are 2 agents. Each observes a state with length: 24\n",
      "The state for the first agent looks like: [ 0.          0.          0.          0.          0.          0.          0.\n",
      "  0.          0.          0.          0.          0.          0.          0.\n",
      "  0.          0.         -6.65278625 -1.5        -0.          0.\n",
      "  6.83172083  6.         -0.          0.        ]\n",
      "The state for the second agent looks like: [ 0.          0.          0.          0.          0.          0.          0.\n",
      "  0.          0.          0.          0.          0.          0.          0.\n",
      "  0.          0.         -6.4669857  -1.5         0.          0.\n",
      " -6.83172083  6.          0.          0.        ]\n"
     ]
    }
   ],
   "source": [
    "# reset the environment\n",
    "env_info = env.reset(train_mode=True)[brain_name]\n",
    "\n",
    "# number of agents \n",
    "num_agents = len(env_info.agents)\n",
    "print('Number of agents:', num_agents)\n",
    "\n",
    "# size of each action\n",
    "action_size = brain.vector_action_space_size\n",
    "print('Size of each action:', action_size)\n",
    "\n",
    "# examine the state space \n",
    "states = env_info.vector_observations\n",
    "state_size = states.shape[1]\n",
    "print('There are {} agents. Each observes a state with length: {}'.format(states.shape[0], state_size))\n",
    "print('The state for the first agent looks like:', states[0])\n",
    "print('The state for the second agent looks like:', states[1])"
   ]
  },
  {
   "cell_type": "markdown",
   "metadata": {},
   "source": [
    "### 3. Take Random Actions in the Environment\n",
    "\n",
    "In the next code cell, you will learn how to use the Python API to control the agent and receive feedback from the environment.\n",
    "\n",
    "Note that **in this coding environment, you will not be able to watch the agents while they are training**, and you should set `train_mode=True` to restart the environment."
   ]
  },
  {
   "cell_type": "code",
   "execution_count": 5,
   "metadata": {},
   "outputs": [
    {
     "name": "stdout",
     "output_type": "stream",
     "text": [
      "Total score (averaged over agents) this episode: -0.004999999888241291\n",
      "Total score (averaged over agents) this episode: -0.004999999888241291\n",
      "Total score (averaged over agents) this episode: -0.004999999888241291\n",
      "Total score (averaged over agents) this episode: -0.004999999888241291\n",
      "Total score (averaged over agents) this episode: 0.04500000085681677\n"
     ]
    }
   ],
   "source": [
    "for i in range(5):                                         # play game for 5 episodes\n",
    "    env_info = env.reset(train_mode=False)[brain_name]     # reset the environment    \n",
    "    states = env_info.vector_observations                  # get the current state (for each agent)\n",
    "    scores = np.zeros(num_agents)                          # initialize the score (for each agent)\n",
    "    while True:\n",
    "        actions = np.random.randn(num_agents, action_size) # select an action (for each agent)\n",
    "        actions = np.clip(actions, -1, 1)                  # all actions between -1 and 1\n",
    "        #print('Actions looks like: ', actions)\n",
    "        env_info = env.step(actions)[brain_name]           # send all actions to tne environment\n",
    "        next_states = env_info.vector_observations         # get next state (for each agent)\n",
    "        rewards = env_info.rewards                         # get reward (for each agent)\n",
    "        #print('Rewards looks like: ', rewards)\n",
    "        dones = env_info.local_done                        # see if episode finished\n",
    "        scores += env_info.rewards                         # update the score (for each agent)\n",
    "        states = next_states                               # roll over states to next time step\n",
    "        if np.any(dones):                                  # exit loop if episode finished\n",
    "            break\n",
    "    print('Total score (averaged over agents) this episode: {}'.format(np.mean(scores)))"
   ]
  },
  {
   "cell_type": "markdown",
   "metadata": {},
   "source": [
    "When finished, you can close the environment."
   ]
  },
  {
   "cell_type": "code",
   "execution_count": 6,
   "metadata": {},
   "outputs": [],
   "source": [
    "#env.close()"
   ]
  },
  {
   "cell_type": "markdown",
   "metadata": {},
   "source": [
    "### 4. It's Your Turn!\n",
    "\n",
    "Now it's your turn to train your own agent to solve the environment!  A few **important notes**:\n",
    "- When training the environment, set `train_mode=True`, so that the line for resetting the environment looks like the following:\n",
    "```python\n",
    "env_info = env.reset(train_mode=True)[brain_name]\n",
    "```\n",
    "- To structure your work, you're welcome to work directly in this Jupyter notebook, or you might like to start over with a new file!  You can see the list of files in the workspace by clicking on **_Jupyter_** in the top left corner of the notebook.\n",
    "- In this coding environment, you will not be able to watch the agents while they are training.  However, **_after training the agents_**, you can download the saved model weights to watch the agents on your own machine! "
   ]
  },
  {
   "cell_type": "code",
   "execution_count": 7,
   "metadata": {},
   "outputs": [],
   "source": [
    "import gym\n",
    "import random\n",
    "import torch\n",
    "import numpy as np\n",
    "from collections import deque\n",
    "import matplotlib.pyplot as plt\n",
    "%matplotlib inline\n",
    "\n",
    "from ddpg_agent import Agent\n",
    "\n",
    "env_info = env.reset(train_mode=True)[brain_name]\n",
    "\n",
    "brain_name = env.brain_names[0]\n",
    "brain = env.brains[brain_name]\n",
    "\n",
    "agentPinky = Agent(state_size=state_size, action_size= action_size, random_seed=0)\n",
    "agentBrain = Agent(state_size=state_size, action_size= action_size, random_seed=1)\n",
    "\n",
    "agents=[agentPinky,agentBrain]\n",
    "#agents=[agentPinky]"
   ]
  },
  {
   "cell_type": "code",
   "execution_count": 8,
   "metadata": {
    "scrolled": true
   },
   "outputs": [
    {
     "name": "stdout",
     "output_type": "stream",
     "text": [
      "Episode 100\tAvg score1:-0.00530 \tAvg score2: 0.00130 \tAverage Max Score: 0.00570\n",
      "Episode 200\tAvg score1:-0.00280 \tAvg score2: 0.01680 \tAverage Max Score: 0.02100\n",
      "Episode 300\tAvg score1:0.00690 \tAvg score2: 0.01610 \tAverage Max Score: 0.02850\n",
      "Episode 400\tAvg score1:-0.00230 \tAvg score2: 0.04030 \tAverage Max Score: 0.04400\n",
      "Episode 500\tAvg score1:0.02520 \tAvg score2: 0.05680 \tAverage Max Score: 0.07670\n",
      "Episode 600\tAvg score1:0.06980 \tAvg score2: 0.06720 \tAverage Max Score: 0.11040\n",
      "Episode 700\tAvg score1:0.09060 \tAvg score2: 0.10530 \tAverage Max Score: 0.13350\n",
      "Episode 800\tAvg score1:0.13000 \tAvg score2: 0.13700 \tAverage Max Score: 0.17130\n",
      "Episode 900\tAvg score1:0.30610 \tAvg score2: 0.28690 \tAverage Max Score: 0.33130\n",
      "Environment solved!\n",
      "Episode 932\tAvg score1:0.47800 \tAvg score2: 0.46230 \tAverage Max Score: 0.50530\n",
      "\n",
      "Environment solved in 832 episodes!\tEnded in episode: 932\n"
     ]
    },
    {
     "data": {
      "image/png": "[encoded data removed]",
      "text/plain": [
       "<matplotlib.figure.Figure at 0x7f4642a423c8>"
      ]
     },
     "metadata": {
      "needs_background": "light"
     },
     "output_type": "display_data"
    }
   ],
   "source": [
    "def ddpg(n_episodes=10000, max_t=5000, print_every=100):\n",
    "    scores_deque = deque(maxlen=print_every)\n",
    "    scores_deque1 = deque(maxlen=print_every)\n",
    "    scores_deque2 = deque(maxlen=print_every)\n",
    "    scores=[]\n",
    "\n",
    "    \n",
    "    for i_episode in range(1, n_episodes+1):\n",
    "        env_info = env.reset(train_mode=True)[brain_name]\n",
    "        ma_state=env_info.vector_observations\n",
    "        for agent in agents:  \n",
    "            agent.reset()\n",
    "            \n",
    "        score = 0\n",
    "        ma_score = np.zeros(num_agents) \n",
    "\n",
    "        #for t in range(max_t):\n",
    "        while True:    \n",
    "              \n",
    "            action1 = agentPinky.act(ma_state[0])  \n",
    "            \n",
    "            action2 = agentBrain.act(ma_state[1])          \n",
    "            #action2 = agentPinky.act(ma_state[1])\n",
    "                                      \n",
    "            ma_action=[action1,action2]        \n",
    "            env_info = env.step(ma_action)[brain_name]\n",
    "         \n",
    "            ma_next_state = env_info.vector_observations   # get the next state\n",
    "            \n",
    "            #ma_next_state =  np.reshape(env_info.vector_observations, (1,state_size))  # get the next state\n",
    "            \n",
    "            \n",
    "            ma_reward = env_info.rewards                   # get the reward\n",
    "            ma_done = env_info.local_done                  # see if episode has finished               \n",
    "\n",
    "            agentPinky.step(ma_state[0], action1, ma_reward[0], ma_next_state[0], ma_done[0] )\n",
    "            \n",
    "            #agentPinky.step(ma_state[1], action2, ma_reward[1], ma_next_state[1], ma_done[1] )            \n",
    "            agentBrain.step(ma_state[1], action2, ma_reward[1], ma_next_state[1], ma_done[1])            \n",
    "            \n",
    "            \n",
    "            ma_score[0] += ma_reward[0]\n",
    "            ma_score[1] += ma_reward[1]\n",
    "            \n",
    "            ma_state = ma_next_state          \n",
    "\n",
    "            \n",
    "            \n",
    "            if any(ma_done):\n",
    "                break \n",
    "        #print(ma_score,' ',ma_score[0],' ',ma_score[1],' ',max(ma_score))\n",
    "        score=max(ma_score)        \n",
    "        scores_deque.append(score)\n",
    "        scores_deque1.append(ma_score[0])\n",
    "        scores_deque2.append(ma_score[1])\n",
    "        scores.append(score)\n",
    "        if i_episode % print_every == 0:\n",
    "            #print('Actions: ', ma_action) \n",
    "            print('\\rEpisode {}\\tAvg score1:{:.5f} \\tAvg score2: {:.5f} \\tAverage Max Score: {:.5f}'.format(i_episode,np.mean(scores_deque1),np.mean(scores_deque2), np.mean(scores_deque)), end=\"\\n\")\n",
    "\n",
    "        if np.mean(scores_deque)>=0.5:\n",
    "            print('Environment solved!')\n",
    "            print('\\rEpisode {}\\tAvg score1:{:.5f} \\tAvg score2: {:.5f} \\tAverage Max Score: {:.5f}'.format(i_episode,np.mean(scores_deque1),np.mean(scores_deque2), np.mean(scores_deque)), end=\"\\n\")\n",
    "            print('\\nEnvironment solved in {:d} episodes!\\tEnded in episode: {:d}'.format(i_episode-100,i_episode ))\n",
    "\n",
    "            torch.save(agentPinky.actor_local.state_dict(), 'checkpoint_actor1.pth')\n",
    "            torch.save(agentPinky.critic_local.state_dict(), 'checkpoint_critic1.pth')\n",
    "            \n",
    "            torch.save(agentBrain.actor_local.state_dict(), 'checkpoint_actor2.pth')\n",
    "            torch.save(agentBrain.critic_local.state_dict(), 'checkpoint_critic2.pth')\n",
    "            \n",
    "            break    \n",
    "            \n",
    "    return scores\n",
    "\n",
    "from workspace_utils import active_session\n",
    "with active_session():  \n",
    "    scores = ddpg()\n",
    "\n",
    "    fig = plt.figure()\n",
    "    ax = fig.add_subplot(111)\n",
    "    plt.plot(np.arange(1, len(scores)+1), scores)\n",
    "    plt.ylabel('Score')\n",
    "    plt.xlabel('Episode #')\n",
    "    plt.show()"
   ]
  },
  {
   "cell_type": "code",
   "execution_count": 9,
   "metadata": {},
   "outputs": [],
   "source": [
    "env.close()\n"
   ]
  }
 ],
 "metadata": {
  "kernelspec": {
   "display_name": "Python 3",
   "language": "python",
   "name": "python3"
  },
  "language_info": {
   "codemirror_mode": {
    "name": "ipython",
    "version": 3
   },
   "file_extension": ".py",
   "mimetype": "text/x-python",
   "name": "python",
   "nbconvert_exporter": "python",
   "pygments_lexer": "ipython3",
   "version": "3.6.3"
  }
 },
 "nbformat": 4,
 "nbformat_minor": 2
}
